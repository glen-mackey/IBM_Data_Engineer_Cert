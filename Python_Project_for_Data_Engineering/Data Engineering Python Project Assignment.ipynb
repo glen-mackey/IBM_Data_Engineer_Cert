{
    "cells": [
        {
            "cell_type": "markdown",
            "metadata": {},
            "source": "<p style=\"text-align:center\">\n    <a href=\"https://skills.network/?utm_medium=Exinfluencer&utm_source=Exinfluencer&utm_content=000026UJ&utm_term=10006555&utm_id=NA-SkillsNetwork-Channel-SkillsNetworkCoursesIBMDeveloperSkillsNetworkPY0221ENSkillsNetwork23455645-2022-01-01\" target=\"_blank\">\n    <img src=\"https://cf-courses-data.s3.us.cloud-object-storage.appdomain.cloud/assets/logos/SN_web_lightmode.png\" width=\"200\" alt=\"Skills Network Logo\"  />\n    </a>\n</p>\n"
        },
        {
            "cell_type": "markdown",
            "metadata": {},
            "source": "# Peer Review Assignment - Data Engineer - ETL\n"
        },
        {
            "cell_type": "markdown",
            "metadata": {},
            "source": "Estimated time needed: **20** minutes\n"
        },
        {
            "cell_type": "markdown",
            "metadata": {},
            "source": "## Objectives\n\nIn this final part you will:\n\n*   Run the ETL process\n*   Extract bank and market cap data from the JSON file `bank_market_cap.json`\n*   Transform the market cap currency using the exchange rate data\n*   Load the transformed data into a seperate CSV\n"
        },
        {
            "cell_type": "markdown",
            "metadata": {},
            "source": "For this lab, we are going to be using Python and several Python libraries. Some of these libraries might be installed in your lab environment or in SN Labs. Others may need to be installed by you. The cells below will install these libraries when executed.\n"
        },
        {
            "cell_type": "code",
            "execution_count": 1,
            "metadata": {},
            "outputs": [],
            "source": "#!mamba install pandas==1.3.3 -y\n#!mamba install requests==2.26.0 -y"
        },
        {
            "cell_type": "markdown",
            "metadata": {},
            "source": "## Imports\n\nImport any additional libraries you may need here.\n"
        },
        {
            "cell_type": "code",
            "execution_count": 2,
            "metadata": {},
            "outputs": [],
            "source": "import glob\nimport pandas as pd\nfrom datetime import datetime"
        },
        {
            "cell_type": "markdown",
            "metadata": {},
            "source": "As the exchange rate fluctuates, we will download the same dataset to make marking simpler. This will be in the same format as the dataset you used in the last section\n"
        },
        {
            "cell_type": "code",
            "execution_count": 3,
            "metadata": {},
            "outputs": [
                {
                    "name": "stdout",
                    "output_type": "stream",
                    "text": "--2022-06-09 13:01:26--  https://cf-courses-data.s3.us.cloud-object-storage.appdomain.cloud/IBMDeveloperSkillsNetwork-PY0221EN-SkillsNetwork/labs/module%206/Lab%20-%20Extract%20Transform%20Load/data/bank_market_cap_1.json\nResolving cf-courses-data.s3.us.cloud-object-storage.appdomain.cloud (cf-courses-data.s3.us.cloud-object-storage.appdomain.cloud)... 198.23.119.245\nConnecting to cf-courses-data.s3.us.cloud-object-storage.appdomain.cloud (cf-courses-data.s3.us.cloud-object-storage.appdomain.cloud)|198.23.119.245|:443... connected.\nHTTP request sent, awaiting response... 200 OK\nLength: 2815 (2.7K) [application/json]\nSaving to: \u2018bank_market_cap_1.json\u2019\n\nbank_market_cap_1.j 100%[===================>]   2.75K  --.-KB/s    in 0s      \n\n2022-06-09 13:01:26 (76.1 MB/s) - \u2018bank_market_cap_1.json\u2019 saved [2815/2815]\n\n--2022-06-09 13:01:27--  https://cf-courses-data.s3.us.cloud-object-storage.appdomain.cloud/IBMDeveloperSkillsNetwork-PY0221EN-SkillsNetwork/labs/module%206/Lab%20-%20Extract%20Transform%20Load/data/bank_market_cap_2.json\nResolving cf-courses-data.s3.us.cloud-object-storage.appdomain.cloud (cf-courses-data.s3.us.cloud-object-storage.appdomain.cloud)... 198.23.119.245\nConnecting to cf-courses-data.s3.us.cloud-object-storage.appdomain.cloud (cf-courses-data.s3.us.cloud-object-storage.appdomain.cloud)|198.23.119.245|:443... connected.\nHTTP request sent, awaiting response... 200 OK\nLength: 1429 (1.4K) [application/json]\nSaving to: \u2018bank_market_cap_2.json\u2019\n\nbank_market_cap_2.j 100%[===================>]   1.40K  --.-KB/s    in 0s      \n\n2022-06-09 13:01:27 (41.3 MB/s) - \u2018bank_market_cap_2.json\u2019 saved [1429/1429]\n\n--2022-06-09 13:01:28--  https://cf-courses-data.s3.us.cloud-object-storage.appdomain.cloud/IBMDeveloperSkillsNetwork-PY0221EN-SkillsNetwork/labs/module%206/Final%20Assignment/exchange_rates.csv\nResolving cf-courses-data.s3.us.cloud-object-storage.appdomain.cloud (cf-courses-data.s3.us.cloud-object-storage.appdomain.cloud)... 198.23.119.245\nConnecting to cf-courses-data.s3.us.cloud-object-storage.appdomain.cloud (cf-courses-data.s3.us.cloud-object-storage.appdomain.cloud)|198.23.119.245|:443... connected.\nHTTP request sent, awaiting response... 200 OK\nLength: 590 [text/csv]\nSaving to: \u2018exchange_rates.csv\u2019\n\nexchange_rates.csv  100%[===================>]     590  --.-KB/s    in 0s      \n\n2022-06-09 13:01:28 (16.1 MB/s) - \u2018exchange_rates.csv\u2019 saved [590/590]\n\n"
                }
            ],
            "source": "!wget https://cf-courses-data.s3.us.cloud-object-storage.appdomain.cloud/IBMDeveloperSkillsNetwork-PY0221EN-SkillsNetwork/labs/module%206/Lab%20-%20Extract%20Transform%20Load/data/bank_market_cap_1.json\n!wget https://cf-courses-data.s3.us.cloud-object-storage.appdomain.cloud/IBMDeveloperSkillsNetwork-PY0221EN-SkillsNetwork/labs/module%206/Lab%20-%20Extract%20Transform%20Load/data/bank_market_cap_2.json\n!wget https://cf-courses-data.s3.us.cloud-object-storage.appdomain.cloud/IBMDeveloperSkillsNetwork-PY0221EN-SkillsNetwork/labs/module%206/Final%20Assignment/exchange_rates.csv"
        },
        {
            "cell_type": "markdown",
            "metadata": {},
            "source": "## Extract\n"
        },
        {
            "cell_type": "markdown",
            "metadata": {},
            "source": "### JSON Extract Function\n\nThis function will extract JSON files.\n"
        },
        {
            "cell_type": "code",
            "execution_count": 4,
            "metadata": {},
            "outputs": [],
            "source": "def extract_from_json(file_to_process):\n    dataframe = pd.read_json(file_to_process)\n    return dataframe"
        },
        {
            "cell_type": "markdown",
            "metadata": {},
            "source": "## Extract Function\n\nDefine the extract function that finds JSON file `bank_market_cap_1.json` and calls the function created above to extract data from them. Store the data in a `pandas` dataframe. Use the following list for the columns.\n"
        },
        {
            "cell_type": "code",
            "execution_count": 5,
            "metadata": {},
            "outputs": [],
            "source": "columns=['Name','Market Cap (US$ Billion)']"
        },
        {
            "cell_type": "code",
            "execution_count": 6,
            "metadata": {},
            "outputs": [],
            "source": "def extract(file_to_process):\n    #df=extract_from_json('bank_market_cap_1.json')\n    df=extract_from_json(file_to_process)\n    return df\n    "
        },
        {
            "cell_type": "markdown",
            "metadata": {},
            "source": "<b>Question 1</b> Load the file <code>exchange_rates.csv</code> as a dataframe and find the exchange rate for British pounds with the symbol <code>GBP</code>, store it in the variable  <code>exchange_rate</code>, you will be asked for the number. Hint: set the parameter  <code>index_col</code> to 0.\n"
        },
        {
            "cell_type": "code",
            "execution_count": 7,
            "metadata": {},
            "outputs": [
                {
                    "data": {
                        "text/plain": "Rates    0.732398\nName: GBP, dtype: float64"
                    },
                    "execution_count": 7,
                    "metadata": {},
                    "output_type": "execute_result"
                }
            ],
            "source": "# Write your code here\n#this file is USD-other_currency exchange rate\nexchange_rate_df=pd.read_csv('exchange_rates.csv', index_col=0)\nexchange_rate_df\nexchange_rate=exchange_rate_df.loc['GBP']\nexchange_rate   #USD-GBP, 1 USD = 0.732 GBP, units are \u00a3/$"
        },
        {
            "cell_type": "markdown",
            "metadata": {},
            "source": "## Transform\n\nUsing <code>exchange_rate</code> and the `exchange_rates.csv` file find the exchange rate of USD to GBP. Write a transform function that\n\n1.  Changes the `Market Cap (US$ Billion)` column from USD to GBP\n2.  Rounds the Market Cap (US$ Billion)\\` column to 3 decimal places\n3.  Rename `Market Cap (US$ Billion)` to `Market Cap (GBP$ Billion)`\n"
        },
        {
            "cell_type": "code",
            "execution_count": 8,
            "metadata": {},
            "outputs": [],
            "source": "def transform(df, exchange_rate):\n    # Write your code here\n    #convert market cap from USD to GBP, $ * \u00a3/$ = \u00a3, do not change name here\n    #and round to 3 decimal places\n    #print( df.columns)\n    #df.head()\n    df['Market Cap (US$ Billion)']=round(df['Market Cap (US$ Billion)']*float(exchange_rate),3)\n    #print(float(exchange_rate))\n    df.head()\n    #rename column\n    df.rename(columns={'Market Cap (US$ Billion)':'Market Cap (GBP$ Billion)'}, inplace=True)\n    \n    return df"
        },
        {
            "cell_type": "markdown",
            "metadata": {},
            "source": "## Load\n\nCreate a function that takes a dataframe and load it to a csv named `bank_market_cap_gbp.csv`. Make sure to set `index` to `False`.\n"
        },
        {
            "cell_type": "code",
            "execution_count": 9,
            "metadata": {},
            "outputs": [],
            "source": "def load(df_to_load, targetfile):\n    # Write your code here\n    df_to_load.to_csv(targetfile)"
        },
        {
            "cell_type": "markdown",
            "metadata": {},
            "source": "## Logging Function\n"
        },
        {
            "cell_type": "markdown",
            "metadata": {},
            "source": "Write the logging function <code>log</code> to log your data:\n"
        },
        {
            "cell_type": "code",
            "execution_count": 10,
            "metadata": {},
            "outputs": [],
            "source": "def log(log_file_name, message):\n    # Write your code here\n    #use same format from ETL project earlier in this course\n    timestamp_format='%Y-%h-%d-%H:%M:%S'\n    #get current time\n    dt_now=datetime.now()\n    #conver datetime object to time stamp with specified format\n    timestamp=dt_now.strftime(timestamp_format)\n    \n    with open(log_file_name,'a') as f:\n        f.write(timestamp + ',' + message + '\\n')"
        },
        {
            "cell_type": "markdown",
            "metadata": {},
            "source": "## Running the ETL Process\n"
        },
        {
            "cell_type": "markdown",
            "metadata": {},
            "source": "Log the process accordingly using the following <code>\"ETL Job Started\"</code> and <code>\"Extract phase Started\"</code>\n"
        },
        {
            "cell_type": "code",
            "execution_count": 11,
            "metadata": {},
            "outputs": [],
            "source": "# Write your code here\nlog_file_name='logfile.txt'\nsource_file='bank_market_cap_1.json'\ntargetfile='bank_market_cap_gbp.csv'\n\nlog(log_file_name,\"ETL Job Started\")\nlog(log_file_name, \"Extract phase Started\")"
        },
        {
            "cell_type": "markdown",
            "metadata": {},
            "source": "### Extract\n"
        },
        {
            "cell_type": "markdown",
            "metadata": {},
            "source": "<code>Question 2</code> Use the function <code>extract</code>, and print the first 5 rows, take a screen shot:\n"
        },
        {
            "cell_type": "code",
            "execution_count": 12,
            "metadata": {},
            "outputs": [
                {
                    "data": {
                        "text/html": "<div>\n<style scoped>\n    .dataframe tbody tr th:only-of-type {\n        vertical-align: middle;\n    }\n\n    .dataframe tbody tr th {\n        vertical-align: top;\n    }\n\n    .dataframe thead th {\n        text-align: right;\n    }\n</style>\n<table border=\"1\" class=\"dataframe\">\n  <thead>\n    <tr style=\"text-align: right;\">\n      <th></th>\n      <th>Name</th>\n      <th>Market Cap (US$ Billion)</th>\n    </tr>\n  </thead>\n  <tbody>\n    <tr>\n      <th>0</th>\n      <td>JPMorgan Chase</td>\n      <td>390.934</td>\n    </tr>\n    <tr>\n      <th>1</th>\n      <td>Industrial and Commercial Bank of China</td>\n      <td>345.214</td>\n    </tr>\n    <tr>\n      <th>2</th>\n      <td>Bank of America</td>\n      <td>325.331</td>\n    </tr>\n    <tr>\n      <th>3</th>\n      <td>Wells Fargo</td>\n      <td>308.013</td>\n    </tr>\n    <tr>\n      <th>4</th>\n      <td>China Construction Bank</td>\n      <td>257.399</td>\n    </tr>\n  </tbody>\n</table>\n</div>",
                        "text/plain": "                                      Name  Market Cap (US$ Billion)\n0                           JPMorgan Chase                   390.934\n1  Industrial and Commercial Bank of China                   345.214\n2                          Bank of America                   325.331\n3                              Wells Fargo                   308.013\n4                  China Construction Bank                   257.399"
                    },
                    "execution_count": 12,
                    "metadata": {},
                    "output_type": "execute_result"
                }
            ],
            "source": "\n# Call the function here\nextracted_data = extract(source_file)\n# Print the rows here\nextracted_data.head()\n"
        },
        {
            "cell_type": "markdown",
            "metadata": {},
            "source": "Log the data as <code>\"Extract phase Ended\"</code>\n"
        },
        {
            "cell_type": "code",
            "execution_count": 13,
            "metadata": {},
            "outputs": [],
            "source": "# Write your code here\nlog(log_file_name, \"Extract phase Ended\")"
        },
        {
            "cell_type": "markdown",
            "metadata": {},
            "source": "### Transform\n"
        },
        {
            "cell_type": "markdown",
            "metadata": {},
            "source": "Log the following  <code>\"Transform phase Started\"</code>\n"
        },
        {
            "cell_type": "code",
            "execution_count": 14,
            "metadata": {},
            "outputs": [],
            "source": "# Write your code here\nlog(log_file_name, \"Transform phase Started\")"
        },
        {
            "cell_type": "markdown",
            "metadata": {},
            "source": "<code>Question 3</code> Use the function <code>transform</code> and print the first 5 rows of the output, take a screen shot:\n"
        },
        {
            "cell_type": "code",
            "execution_count": 15,
            "metadata": {},
            "outputs": [
                {
                    "data": {
                        "text/html": "<div>\n<style scoped>\n    .dataframe tbody tr th:only-of-type {\n        vertical-align: middle;\n    }\n\n    .dataframe tbody tr th {\n        vertical-align: top;\n    }\n\n    .dataframe thead th {\n        text-align: right;\n    }\n</style>\n<table border=\"1\" class=\"dataframe\">\n  <thead>\n    <tr style=\"text-align: right;\">\n      <th></th>\n      <th>Name</th>\n      <th>Market Cap (GBP$ Billion)</th>\n    </tr>\n  </thead>\n  <tbody>\n    <tr>\n      <th>0</th>\n      <td>JPMorgan Chase</td>\n      <td>286.319</td>\n    </tr>\n    <tr>\n      <th>1</th>\n      <td>Industrial and Commercial Bank of China</td>\n      <td>252.834</td>\n    </tr>\n    <tr>\n      <th>2</th>\n      <td>Bank of America</td>\n      <td>238.272</td>\n    </tr>\n    <tr>\n      <th>3</th>\n      <td>Wells Fargo</td>\n      <td>225.588</td>\n    </tr>\n    <tr>\n      <th>4</th>\n      <td>China Construction Bank</td>\n      <td>188.519</td>\n    </tr>\n  </tbody>\n</table>\n</div>",
                        "text/plain": "                                      Name  Market Cap (GBP$ Billion)\n0                           JPMorgan Chase                    286.319\n1  Industrial and Commercial Bank of China                    252.834\n2                          Bank of America                    238.272\n3                              Wells Fargo                    225.588\n4                  China Construction Bank                    188.519"
                    },
                    "execution_count": 15,
                    "metadata": {},
                    "output_type": "execute_result"
                }
            ],
            "source": "# Call the function here\ntransformed_data=transform(extracted_data, exchange_rate)\n# Print the first 5 rows here\ntransformed_data.head()"
        },
        {
            "cell_type": "markdown",
            "metadata": {},
            "source": "Log your data <code>\"Transform phase Ended\"</code>\n"
        },
        {
            "cell_type": "code",
            "execution_count": 16,
            "metadata": {},
            "outputs": [],
            "source": "# Write your code here\nlog(log_file_name, \"Transform phase Ended\")"
        },
        {
            "cell_type": "markdown",
            "metadata": {},
            "source": "### Load\n"
        },
        {
            "cell_type": "markdown",
            "metadata": {},
            "source": "Log the following `\"Load phase Started\"`.\n"
        },
        {
            "cell_type": "code",
            "execution_count": 17,
            "metadata": {},
            "outputs": [],
            "source": "# Write your code here\nlog(log_file_name, \"Load phase Started\")"
        },
        {
            "cell_type": "markdown",
            "metadata": {},
            "source": "Call the load function\n"
        },
        {
            "cell_type": "code",
            "execution_count": 18,
            "metadata": {},
            "outputs": [],
            "source": "# Write your code here\nload(transformed_data,targetfile)"
        },
        {
            "cell_type": "markdown",
            "metadata": {},
            "source": "Log the following `\"Load phase Ended\"`.\n"
        },
        {
            "cell_type": "code",
            "execution_count": 19,
            "metadata": {},
            "outputs": [
                {
                    "name": "stdout",
                    "output_type": "stream",
                    "text": "2022-Jun-09-13:01:28,ETL Job Started\n\n2022-Jun-09-13:01:28,Extract phase Started\n\n2022-Jun-09-13:01:28,Extract phase Ended\n\n2022-Jun-09-13:01:28,Transform phase Started\n\n2022-Jun-09-13:01:28,Transform phase Ended\n\n2022-Jun-09-13:01:28,Load phase Started\n\n2022-Jun-09-13:01:29,Load phase Ended\n\n2022-Jun-09-13:01:29,ETL Job Ended\n\n"
                },
                {
                    "name": "stderr",
                    "output_type": "stream",
                    "text": "/tmp/wsuser/ipykernel_179/3003724622.py:6: DeprecationWarning: 'U' mode is deprecated\n  with open(log_file_name,'rU') as f:\n"
                }
            ],
            "source": "# Write your code here\nlog(log_file_name, \"Load phase Ended\")\nlog(log_file_name,\"ETL Job Ended\")\n\n#reads the log file to make sure everything was written correctly\nwith open(log_file_name,'rU') as f:\n    for line in f:\n        print(line)"
        },
        {
            "cell_type": "markdown",
            "metadata": {},
            "source": "## Authors\n"
        },
        {
            "cell_type": "markdown",
            "metadata": {},
            "source": "Ramesh Sannareddy, Joseph Santrcangelo and Azim Hirjani\n"
        },
        {
            "cell_type": "markdown",
            "metadata": {},
            "source": "### Other Contributors\n"
        },
        {
            "cell_type": "markdown",
            "metadata": {},
            "source": "Rav Ahuja\n"
        },
        {
            "cell_type": "markdown",
            "metadata": {},
            "source": "## Change Log\n"
        },
        {
            "cell_type": "markdown",
            "metadata": {},
            "source": "| Date (YYYY-MM-DD) | Version | Changed By        | Change Description                 |\n| ----------------- | ------- | ----------------- | ---------------------------------- |\n| 2020-11-25        | 0.1     | Ramesh Sannareddy | Created initial version of the lab |\n"
        },
        {
            "cell_type": "markdown",
            "metadata": {},
            "source": "Copyright \u00a9 2020 IBM Corporation. This notebook and its source code are released under the terms of the [MIT License](https://cognitiveclass.ai/mit-license?utm_medium=Exinfluencer&utm_source=Exinfluencer&utm_content=000026UJ&utm_term=10006555&utm_id=NA-SkillsNetwork-Channel-SkillsNetworkCoursesIBMDeveloperSkillsNetworkPY0221ENSkillsNetwork23455645-2022-01-01&cm_mmc=Email_Newsletter-\\_-Developer_Ed%2BTech-\\_-WW_WW-\\_-SkillsNetwork-Courses-IBM-DA0321EN-SkillsNetwork-21426264&cm_mmca1=000026UJ&cm_mmca2=10006555&cm_mmca3=M12345678&cvosrc=email.Newsletter.M12345678&cvo_campaign=000026UJ).\n"
        }
    ],
    "metadata": {
        "kernelspec": {
            "display_name": "Python 3.9",
            "language": "python",
            "name": "python3"
        },
        "language_info": {
            "codemirror_mode": {
                "name": "ipython",
                "version": 3
            },
            "file_extension": ".py",
            "mimetype": "text/x-python",
            "name": "python",
            "nbconvert_exporter": "python",
            "pygments_lexer": "ipython3",
            "version": "3.9.7"
        }
    },
    "nbformat": 4,
    "nbformat_minor": 4
}